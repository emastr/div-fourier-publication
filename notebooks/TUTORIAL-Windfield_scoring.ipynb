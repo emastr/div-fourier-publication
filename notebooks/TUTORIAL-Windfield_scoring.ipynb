{
 "cells": [
  {
   "cell_type": "markdown",
   "metadata": {},
   "source": [
    "# Wind field scoring functions\n",
    "Begin by importing needed functions."
   ]
  },
  {
   "cell_type": "code",
   "execution_count": 2,
   "metadata": {},
   "outputs": [
    {
     "data": {
      "text/html": [
       "<style>div.output_scroll { height: 5em; }</style>"
      ],
      "text/plain": [
       "<IPython.core.display.HTML object>"
      ]
     },
     "metadata": {},
     "output_type": "display_data"
    }
   ],
   "source": [
    "# We want to work with modules from parent directory\n",
    "import sys\n",
    "sys.path.append('../')\n",
    "# Some of the data loading functions produce warnings,\n",
    "# Let's supress them for neatness sake.\n",
    "import warnings\n",
    "warnings.filterwarnings(\"ignore\")\n",
    "from IPython.core.display import display, HTML\n",
    "\n",
    "# Decrease the size of the scroll window, the information is not relevant.\n",
    "display(HTML(\"<style>div.output_scroll { height: 5em; }</style>\"))\n",
    "\n",
    "from error_estimation.windfield_prediction import do_random_predictions, get_mean_square_error, prediction_errors, get_square_error\n",
    "from error_estimation.error_analysis_plots import plot_ridgeline, get_error_table\n",
    "from models.averaging_windfield import AveragingWindfield\n",
    "from models.nn_windfield import NearestNeighbourWindfield\n",
    "import framework.data_loader as dl\n",
    "from framework.plotter import setup_plot\n",
    "import matplotlib.pyplot as plt\n",
    "import numpy as np\n",
    "import pandas as pd\n",
    "\n",
    "# Load sweden map (for plotting)\n",
    "swe_map = dl.load_shape_file_from_url(url=\"https://www.enblom.org/sweden-map.zip\")"
   ]
  },
  {
   "cell_type": "markdown",
   "metadata": {},
   "source": [
    "## `windfield_prediction.py`\n",
    "The file `windfield_prediction.py` contains useful functions for analysing the accuracy of a windfield model. \n",
    "The function `do_many_predictions()` uses k-fold validation to generate velocity predictions for a subset of times of data frame containing measurements. The mandatory inputs are\n",
    "\n",
    "* `wind_field` , the wind field model.\n",
    "* `wind_data`, a `WindDataFrame` with wind measurements.\n",
    "* `times`, a `numpy.array` with datetime objects signifying the times to predict.\n",
    "\n",
    "There are a couple of optional arguments as well,\n",
    "\n",
    "* `n_splits`, the number of folds to use in the k-fold validation.\n",
    "* `seed`, the seed to use for the k-fold validation.\n",
    "\n",
    "An alternative to `do_many_predictions()` is `do_random_predictions()`, where the `times` variable is replaced by a random sample of the available times in the data. The number of samples is specified by the argument `n_samples`. The functions return a `WindDataFrame` with two extra columns, `u_pred` and `v_pred` containing the generated velocity predictions. Here's an example how the function can be used:"
   ]
  },
  {
   "cell_type": "code",
   "execution_count": 11,
   "metadata": {
    "scrolled": false
   },
   "outputs": [
    {
     "data": {
      "text/html": [
       "<div>\n",
       "<style scoped>\n",
       "    .dataframe tbody tr th:only-of-type {\n",
       "        vertical-align: middle;\n",
       "    }\n",
       "\n",
       "    .dataframe tbody tr th {\n",
       "        vertical-align: top;\n",
       "    }\n",
       "\n",
       "    .dataframe thead th {\n",
       "        text-align: right;\n",
       "    }\n",
       "</style>\n",
       "<table border=\"1\" class=\"dataframe\">\n",
       "  <thead>\n",
       "    <tr style=\"text-align: right;\">\n",
       "      <th></th>\n",
       "      <th>x</th>\n",
       "      <th>y</th>\n",
       "      <th>u</th>\n",
       "      <th>v</th>\n",
       "      <th>station_id</th>\n",
       "      <th>altitude</th>\n",
       "      <th>height</th>\n",
       "      <th>date</th>\n",
       "      <th>time</th>\n",
       "      <th>datetime</th>\n",
       "      <th>u_pred</th>\n",
       "      <th>v_pred</th>\n",
       "      <th>Fold_index</th>\n",
       "    </tr>\n",
       "  </thead>\n",
       "  <tbody>\n",
       "    <tr>\n",
       "      <th>0</th>\n",
       "      <td>373015.160293</td>\n",
       "      <td>6.163951e+06</td>\n",
       "      <td>2.768827</td>\n",
       "      <td>0.862322</td>\n",
       "      <td>52350</td>\n",
       "      <td>3</td>\n",
       "      <td>10</td>\n",
       "      <td>2018-01-30</td>\n",
       "      <td>21:00</td>\n",
       "      <td>2018-01-30 21:00:00</td>\n",
       "      <td>4.832225</td>\n",
       "      <td>2.420623</td>\n",
       "      <td>1.0</td>\n",
       "    </tr>\n",
       "    <tr>\n",
       "      <th>1</th>\n",
       "      <td>366589.419721</td>\n",
       "      <td>6.241324e+06</td>\n",
       "      <td>4.408381</td>\n",
       "      <td>2.359275</td>\n",
       "      <td>62180</td>\n",
       "      <td>18</td>\n",
       "      <td>10</td>\n",
       "      <td>2018-01-30</td>\n",
       "      <td>21:00</td>\n",
       "      <td>2018-01-30 21:00:00</td>\n",
       "      <td>4.488061</td>\n",
       "      <td>2.749403</td>\n",
       "      <td>1.0</td>\n",
       "    </tr>\n",
       "    <tr>\n",
       "      <th>2</th>\n",
       "      <td>382004.426352</td>\n",
       "      <td>6.313428e+06</td>\n",
       "      <td>2.904915</td>\n",
       "      <td>1.565716</td>\n",
       "      <td>63590</td>\n",
       "      <td>133</td>\n",
       "      <td>10</td>\n",
       "      <td>2018-01-30</td>\n",
       "      <td>21:00</td>\n",
       "      <td>2018-01-30 21:00:00</td>\n",
       "      <td>2.309523</td>\n",
       "      <td>1.162955</td>\n",
       "      <td>1.0</td>\n",
       "    </tr>\n",
       "    <tr>\n",
       "      <th>3</th>\n",
       "      <td>516985.401289</td>\n",
       "      <td>6.235263e+06</td>\n",
       "      <td>2.815663</td>\n",
       "      <td>1.035394</td>\n",
       "      <td>65160</td>\n",
       "      <td>58</td>\n",
       "      <td>10</td>\n",
       "      <td>2018-01-30</td>\n",
       "      <td>21:00</td>\n",
       "      <td>2018-01-30 21:00:00</td>\n",
       "      <td>4.488280</td>\n",
       "      <td>1.354449</td>\n",
       "      <td>1.0</td>\n",
       "    </tr>\n",
       "    <tr>\n",
       "      <th>4</th>\n",
       "      <td>313478.944244</td>\n",
       "      <td>6.355302e+06</td>\n",
       "      <td>6.283124</td>\n",
       "      <td>4.621943</td>\n",
       "      <td>71190</td>\n",
       "      <td>4</td>\n",
       "      <td>10</td>\n",
       "      <td>2018-01-30</td>\n",
       "      <td>21:00</td>\n",
       "      <td>2018-01-30 21:00:00</td>\n",
       "      <td>3.291105</td>\n",
       "      <td>2.827164</td>\n",
       "      <td>1.0</td>\n",
       "    </tr>\n",
       "    <tr>\n",
       "      <th>...</th>\n",
       "      <td>...</td>\n",
       "      <td>...</td>\n",
       "      <td>...</td>\n",
       "      <td>...</td>\n",
       "      <td>...</td>\n",
       "      <td>...</td>\n",
       "      <td>...</td>\n",
       "      <td>...</td>\n",
       "      <td>...</td>\n",
       "      <td>...</td>\n",
       "      <td>...</td>\n",
       "      <td>...</td>\n",
       "      <td>...</td>\n",
       "    </tr>\n",
       "    <tr>\n",
       "      <th>16516</th>\n",
       "      <td>842908.222100</td>\n",
       "      <td>7.263316e+06</td>\n",
       "      <td>1.637293</td>\n",
       "      <td>2.146921</td>\n",
       "      <td>162790</td>\n",
       "      <td>2</td>\n",
       "      <td>10</td>\n",
       "      <td>2018-03-17</td>\n",
       "      <td>04:00</td>\n",
       "      <td>2018-03-17 04:00:00</td>\n",
       "      <td>0.747144</td>\n",
       "      <td>-0.200600</td>\n",
       "      <td>5.0</td>\n",
       "    </tr>\n",
       "    <tr>\n",
       "      <th>16517</th>\n",
       "      <td>870976.641886</td>\n",
       "      <td>7.310100e+06</td>\n",
       "      <td>4.042644</td>\n",
       "      <td>-0.683394</td>\n",
       "      <td>163900</td>\n",
       "      <td>2</td>\n",
       "      <td>10</td>\n",
       "      <td>2018-03-17</td>\n",
       "      <td>04:00</td>\n",
       "      <td>2018-03-17 04:00:00</td>\n",
       "      <td>0.838494</td>\n",
       "      <td>-0.274714</td>\n",
       "      <td>5.0</td>\n",
       "    </tr>\n",
       "    <tr>\n",
       "      <th>16518</th>\n",
       "      <td>915209.249174</td>\n",
       "      <td>7.330462e+06</td>\n",
       "      <td>1.247652</td>\n",
       "      <td>0.365191</td>\n",
       "      <td>163960</td>\n",
       "      <td>13</td>\n",
       "      <td>10</td>\n",
       "      <td>2018-03-17</td>\n",
       "      <td>04:00</td>\n",
       "      <td>2018-03-17 04:00:00</td>\n",
       "      <td>0.926870</td>\n",
       "      <td>-0.419652</td>\n",
       "      <td>5.0</td>\n",
       "    </tr>\n",
       "    <tr>\n",
       "      <th>16519</th>\n",
       "      <td>701320.876594</td>\n",
       "      <td>7.558889e+06</td>\n",
       "      <td>0.267773</td>\n",
       "      <td>-2.787167</td>\n",
       "      <td>189720</td>\n",
       "      <td>494</td>\n",
       "      <td>10</td>\n",
       "      <td>2018-03-17</td>\n",
       "      <td>04:00</td>\n",
       "      <td>2018-03-17 04:00:00</td>\n",
       "      <td>1.593181</td>\n",
       "      <td>-0.434345</td>\n",
       "      <td>5.0</td>\n",
       "    </tr>\n",
       "    <tr>\n",
       "      <th>16520</th>\n",
       "      <td>764290.524887</td>\n",
       "      <td>7.632291e+06</td>\n",
       "      <td>4.575552</td>\n",
       "      <td>-0.473628</td>\n",
       "      <td>191910</td>\n",
       "      <td>402</td>\n",
       "      <td>10</td>\n",
       "      <td>2018-03-17</td>\n",
       "      <td>04:00</td>\n",
       "      <td>2018-03-17 04:00:00</td>\n",
       "      <td>1.089782</td>\n",
       "      <td>0.185263</td>\n",
       "      <td>5.0</td>\n",
       "    </tr>\n",
       "  </tbody>\n",
       "</table>\n",
       "<p>16521 rows × 13 columns</p>\n",
       "</div>"
      ],
      "text/plain": [
       "                   x             y         u         v  station_id  altitude  \\\n",
       "0      373015.160293  6.163951e+06  2.768827  0.862322       52350         3   \n",
       "1      366589.419721  6.241324e+06  4.408381  2.359275       62180        18   \n",
       "2      382004.426352  6.313428e+06  2.904915  1.565716       63590       133   \n",
       "3      516985.401289  6.235263e+06  2.815663  1.035394       65160        58   \n",
       "4      313478.944244  6.355302e+06  6.283124  4.621943       71190         4   \n",
       "...              ...           ...       ...       ...         ...       ...   \n",
       "16516  842908.222100  7.263316e+06  1.637293  2.146921      162790         2   \n",
       "16517  870976.641886  7.310100e+06  4.042644 -0.683394      163900         2   \n",
       "16518  915209.249174  7.330462e+06  1.247652  0.365191      163960        13   \n",
       "16519  701320.876594  7.558889e+06  0.267773 -2.787167      189720       494   \n",
       "16520  764290.524887  7.632291e+06  4.575552 -0.473628      191910       402   \n",
       "\n",
       "       height        date   time            datetime    u_pred    v_pred  \\\n",
       "0          10  2018-01-30  21:00 2018-01-30 21:00:00  4.832225  2.420623   \n",
       "1          10  2018-01-30  21:00 2018-01-30 21:00:00  4.488061  2.749403   \n",
       "2          10  2018-01-30  21:00 2018-01-30 21:00:00  2.309523  1.162955   \n",
       "3          10  2018-01-30  21:00 2018-01-30 21:00:00  4.488280  1.354449   \n",
       "4          10  2018-01-30  21:00 2018-01-30 21:00:00  3.291105  2.827164   \n",
       "...       ...         ...    ...                 ...       ...       ...   \n",
       "16516      10  2018-03-17  04:00 2018-03-17 04:00:00  0.747144 -0.200600   \n",
       "16517      10  2018-03-17  04:00 2018-03-17 04:00:00  0.838494 -0.274714   \n",
       "16518      10  2018-03-17  04:00 2018-03-17 04:00:00  0.926870 -0.419652   \n",
       "16519      10  2018-03-17  04:00 2018-03-17 04:00:00  1.593181 -0.434345   \n",
       "16520      10  2018-03-17  04:00 2018-03-17 04:00:00  1.089782  0.185263   \n",
       "\n",
       "       Fold_index  \n",
       "0             1.0  \n",
       "1             1.0  \n",
       "2             1.0  \n",
       "3             1.0  \n",
       "4             1.0  \n",
       "...           ...  \n",
       "16516         5.0  \n",
       "16517         5.0  \n",
       "16518         5.0  \n",
       "16519         5.0  \n",
       "16520         5.0  \n",
       "\n",
       "[16521 rows x 13 columns]"
      ]
     },
     "execution_count": 11,
     "metadata": {},
     "output_type": "execute_result"
    }
   ],
   "source": [
    "# Load some data\n",
    "data = dl.load_parquet(\"../Data/wind_data_2018.parquet\")\n",
    "\n",
    "# Create windfield\n",
    "wf = AveragingWindfield()   # <- this can be any windfield. \n",
    "\n",
    "# Make predictions using 5-fold validation\n",
    "predictions = do_random_predictions(wf, data, n_samples = 100, n_splits = 5, seed = 100)\n",
    "\n",
    "# Print predictions\n",
    "predictions"
   ]
  },
  {
   "cell_type": "markdown",
   "metadata": {},
   "source": [
    " We can then use the function `get_mean_square_error()` to evaluate the accuracy of the predictions:"
   ]
  },
  {
   "cell_type": "code",
   "execution_count": 12,
   "metadata": {},
   "outputs": [
    {
     "name": "stdout",
     "output_type": "stream",
     "text": [
      "1-R^2:  0.3904064700958294\n",
      "MSE:  7.305225798628245\n"
     ]
    }
   ],
   "source": [
    "# Print 1-R^2 (fraction of unexplained variance) of the above predictions:\n",
    "print(\"1-R^2: \", get_mean_square_error(predictions, normalize=True))\n",
    "\n",
    "# Prine MSE error of the above predictions:\n",
    "print(\"MSE: \", get_mean_square_error(predictions, normalize=False))"
   ]
  },
  {
   "cell_type": "markdown",
   "metadata": {},
   "source": [
    "The `get_mean_square_error()` function with `normalize` set to false simply computes the mean square error of the predictions. If it is set to true, the function computes the fraction of unexplained variance ($1-R^2$) in the velocity. Meaning, if $\\{u_i,v_i\\}_{i=1}^N$ are the measured velocities and $\\{u^p_i, v^p_i\\}_{i=1}^N$ are the predictions, the function returns\n",
    "\n",
    "$$\n",
    "    \\frac{\\frac{1}{N}\\sum_{i=1}^N (u_i-u^p_i)^2+(v_i-v^p_i)^2}{\\frac{1}{N}\\sum_{i=1}^N u_i^2+v_i^2},\n",
    "$$\n",
    "\n",
    "As opposed to normalizing the errors pointwise. Note that the expression in the denominator is exactly the mean square error. The two functions `do_random_predictions()` and `get_mean_square_error()` are extremely useful for analysing the error of a windfield model. We can for example group the predictions by station and apply `get_mean_square_error()` to each group respectively. "
   ]
  },
  {
   "cell_type": "code",
   "execution_count": 25,
   "metadata": {},
   "outputs": [
    {
     "data": {
      "text/plain": [
       "<matplotlib.collections.PathCollection at 0x14dc86d2148>"
      ]
     },
     "execution_count": 25,
     "metadata": {},
     "output_type": "execute_result"
    },
    {
     "data": {
      "image/png": "[encoded data removed]",
      "text/plain": [
       "<Figure size 432x288 with 1 Axes>"
      ]
     },
     "metadata": {
      "needs_background": "light"
     },
     "output_type": "display_data"
    }
   ],
   "source": [
    "# Get station positions\n",
    "stations = data[[\"station_id\", \"x\", \"y\"]].drop_duplicates()\n",
    "# Get errors by station\n",
    "stations[\"error\"] = predictions.groupby(\"station_id\").apply(get_mean_square_error).values\n",
    "\n",
    "# Plot errors \n",
    "fig, ax, _, _, _, _, _, _ = setup_plot(swe_map)\n",
    "swe_map.plot(ax=ax, edgecolor=\"black\", linewidth=.2)\n",
    "\n",
    "# Scatter plot of the station locations, each point scaled according to prediction error.\n",
    "plt.scatter(\"x\", \"y\", s=\"error\", data=stations)"
   ]
  },
  {
   "cell_type": "markdown",
   "metadata": {},
   "source": [
    "The `do_many_predictions` function works fine as a single process when the number of samples is relatively small, but when doing hyper optimisation for example, it is useful to divide the task of training and predicting into several sub tasks so that multiprocessing can be used to reduce computation time. For this task, consider `do_parallel_5fold()`. It takes the arguments\n",
    "\n",
    "* `windfields`, A python list of `WindField` objects.\n",
    "* `data_folder`, A folder of data frames generated by the function `split_and_save_data()`.\n",
    "* `save_folder`, A folder where the predictions are saved.\n",
    "* `n_samples`, Number of random samples to pick from the data folder\n",
    "* `seed`, Random seed for picking the samples.\n",
    "* `processes`, Number of parallel processes to use for generating predictions.\n",
    "* `random`, A boolean. If True, the data samples will be chosen randomly. If False, the first `n_samples` data frames will be chosen from the data folder.\n",
    "\n",
    "A general pipeline for doing a hyper-parameter analysis is as follows:\n",
    "\n",
    "* Generate data using `split_and_save_data()`\n",
    "* Define a set of windfields with different hyper parameters\n",
    "* Generate predictions using `do_many_predictions()`\n",
    "* Retrieve the predictions from `save_folder`. \n",
    "* Use `get_mean_square_error()` to evaluate the performance.\n",
    "\n",
    "This pipeline is employed in the `multiproc_fourier_features_optimisation.py` and `multiproc_predictions.py` perform hyper optimisation as well model comparisons."
   ]
  },
  {
   "cell_type": "markdown",
   "metadata": {},
   "source": [
    "## `error_analysis_plots.py`\n",
    "The code in `error_analysis_plots.py` provide some rudimentary tools for analysing the accuracy of the above error estimates. The function `plot_ridgeline()` plots a set of histograms showing the distribution of the mean square errors. The function has only one input, `windfield_errors`. This input is a DataFrame with errors along the columns, which can be obtained using the same `groupby` + `get_mean_square_error()` technique employed above, but with respect to time. To make it interesting, let's first generate predictions with another windfield."
   ]
  },
  {
   "cell_type": "code",
   "execution_count": 21,
   "metadata": {},
   "outputs": [],
   "source": [
    "nn_wf = NearestNeighbourWindfield()\n",
    "\n",
    "# Make predictions using 5-fold validation\n",
    "predictions_nn = do_random_predictions(nn_wf, data, n_samples = 100, n_splits = 5, seed = 100)"
   ]
  },
  {
   "cell_type": "markdown",
   "metadata": {},
   "source": [
    "Next, plot the results using the `plot_ridgeline()` function. The function is tuned for relative errors with a range between 0 and 1.2, so the errors need to be normalised by the mean square wind speed."
   ]
  },
  {
   "cell_type": "code",
   "execution_count": 22,
   "metadata": {},
   "outputs": [
    {
     "data": {
      "image/png": "[encoded data removed]",
      "text/plain": [
       "<Figure size 432x288 with 1 Axes>"
      ]
     },
     "metadata": {
      "needs_background": "light"
     },
     "output_type": "display_data"
    }
   ],
   "source": [
    "# Create error frame\n",
    "errors = pd.DataFrame()\n",
    "errors[\"Averaging\"] = predictions.groupby(\"datetime\").apply(get_mean_square_error)# Errors of first model\n",
    "errors[\"Nearest neighbors\"] = predictions_nn.groupby(\"datetime\").apply(get_mean_square_error) # Errors of second model\n",
    "\n",
    "# Normalise with mean square wind speed\n",
    "msq_wind = (data.v**2 + data.u**2).mean()\n",
    "errors /= msq_wind\n",
    "\n",
    "# Plot results as a ridgeline plot\n",
    "plot_ridgeline(errors)"
   ]
  },
  {
   "cell_type": "markdown",
   "metadata": {},
   "source": [
    "The thick black lines mark the mean of the distribution, and the dashed black lines mark confidence intervals for tis mean.\n",
    "The exact confidence intervals can be obtained using the `get_error_table()` function. Into the function we input the errors as well as the mean square wind speed. The function returns a table with columns:\n",
    "* name: The name of the model (Taken from the `errors` DataFrame input)\n",
    "* MSE: mean square error (the mean along each column in `errors`)\n",
    "* MSEci: Confidence interval for MSE (two standard deviations of each column `errors` divided by the root of the number of samples)\n",
    "* nMSE: Normalised mean square error\n",
    "* nMSEci: Confidence interval for nMSE\n",
    "\n",
    "The argument `print_tex_string` is a boolean which produces a LaTex style printout of the table in the command line."
   ]
  },
  {
   "cell_type": "code",
   "execution_count": 24,
   "metadata": {},
   "outputs": [
    {
     "name": "stdout",
     "output_type": "stream",
     "text": [
      "Nearest neighbors & 0.603 $\\pm$ 0.053 & 11.163 $\\pm$ 0.980 \\\\\n",
      "Averaging & 0.395 $\\pm$ 0.035 & 7.307 $\\pm$ 0.644 \\\\\n"
     ]
    },
    {
     "data": {
      "text/html": [
       "<div>\n",
       "<style scoped>\n",
       "    .dataframe tbody tr th:only-of-type {\n",
       "        vertical-align: middle;\n",
       "    }\n",
       "\n",
       "    .dataframe tbody tr th {\n",
       "        vertical-align: top;\n",
       "    }\n",
       "\n",
       "    .dataframe thead th {\n",
       "        text-align: right;\n",
       "    }\n",
       "</style>\n",
       "<table border=\"1\" class=\"dataframe\">\n",
       "  <thead>\n",
       "    <tr style=\"text-align: right;\">\n",
       "      <th></th>\n",
       "      <th>MSE</th>\n",
       "      <th>MSEci</th>\n",
       "      <th>nMSE</th>\n",
       "      <th>nMSEci</th>\n",
       "      <th>name</th>\n",
       "    </tr>\n",
       "  </thead>\n",
       "  <tbody>\n",
       "    <tr>\n",
       "      <th>1</th>\n",
       "      <td>11.163160</td>\n",
       "      <td>0.979617</td>\n",
       "      <td>0.602965</td>\n",
       "      <td>0.052913</td>\n",
       "      <td>Nearest neighbors</td>\n",
       "    </tr>\n",
       "    <tr>\n",
       "      <th>0</th>\n",
       "      <td>7.307091</td>\n",
       "      <td>0.643590</td>\n",
       "      <td>0.394684</td>\n",
       "      <td>0.034763</td>\n",
       "      <td>Averaging</td>\n",
       "    </tr>\n",
       "  </tbody>\n",
       "</table>\n",
       "</div>"
      ],
      "text/plain": [
       "         MSE     MSEci      nMSE    nMSEci               name\n",
       "1  11.163160  0.979617  0.602965  0.052913  Nearest neighbors\n",
       "0   7.307091  0.643590  0.394684  0.034763          Averaging"
      ]
     },
     "execution_count": 24,
     "metadata": {},
     "output_type": "execute_result"
    }
   ],
   "source": [
    "table = get_error_table(errors, msq_wind, print_tex_string=True)\n",
    "table"
   ]
  }
 ],
 "metadata": {
  "kernelspec": {
   "display_name": "Python 3",
   "language": "python",
   "name": "python3"
  },
  "language_info": {
   "codemirror_mode": {
    "name": "ipython",
    "version": 3
   },
   "file_extension": ".py",
   "mimetype": "text/x-python",
   "name": "python",
   "nbconvert_exporter": "python",
   "pygments_lexer": "ipython3",
   "version": "3.7.7"
  }
 },
 "nbformat": 4,
 "nbformat_minor": 4
}
